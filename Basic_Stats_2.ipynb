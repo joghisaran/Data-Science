{
 "cells": [
  {
   "cell_type": "markdown",
   "id": "309f14e5-75fa-4e9e-a532-1dea2a22cff6",
   "metadata": {},
   "source": [
    "* Estimation And Confidence Intervals\n",
    "* A total of 15 print-heads were randomly selected and tested until failure. The durability of each print-head (in millions of characters) was recorded as follows:\n",
    "* 1.13, 1.55, 1.43, 0.92, 1.25, 1.36, 1.32, 0.85, 1.07, 1.48, 1.20, 1.33, 1.18, 1.22, 1.29\n"
   ]
  },
  {
   "cell_type": "markdown",
   "id": "871d942f-c05f-4a85-a1df-f852e4665cd5",
   "metadata": {},
   "source": [
    "* a. Build 99% Confidence Interval Using Sample Standard Deviation\n",
    "* Assuming the sample is representative of the population, construct a 99% confidence interval for the mean number of characters printed before the \n",
    "* print-head fails using the sample standard deviation. Explain the steps you take and the rationale behind using the t-distribution for this task.\n"
   ]
  },
  {
   "cell_type": "code",
   "execution_count": 5,
   "id": "e8c5c37a-4e1c-457b-8456-7632500f075e",
   "metadata": {},
   "outputs": [],
   "source": [
    "import numpy as np\n",
    "import pandas as pd\n",
    "from scipy import stats"
   ]
  },
  {
   "cell_type": "markdown",
   "id": "7b0e6fae-f7db-443e-b212-c008c78da07e",
   "metadata": {},
   "source": [
    "* Since the Population standard deviation is unknown, we need to go for t-test\n",
    "\n",
    "* Formula to calculate Confidence Interval is (x_bar + t_critical*s/sqrt(n) , x_bar - t_critical*s/sqrt(n))\n",
    "* Where x_bar --> Sample mean, n --> number of samples, s --> Sample standard deviation\n"
   ]
  },
  {
   "cell_type": "code",
   "execution_count": 43,
   "id": "98ee953f-6ca4-44d9-bc2e-e9651e38c440",
   "metadata": {},
   "outputs": [
    {
     "name": "stdout",
     "output_type": "stream",
     "text": [
      "Sample mean is 1.2386666666666666 Sample standard_deviation is 0.19316412956959936\n",
      "t_critical is 2.976842734370834\n",
      "Standard Error is 0.04987476379384733\n",
      "Margin of error is 0.14846932822817596\n",
      "The Confidence Interval falls in the range 1.0901973384384906, 1.3871359948948425\n"
     ]
    }
   ],
   "source": [
    "# STEP 1 --> Calculate sample mean and sample sandard deviation\n",
    "list1 = [1.13, 1.55, 1.43, 0.92, 1.25, 1.36, 1.32, 0.85, 1.07, 1.48, 1.20, 1.33, 1.18, 1.22, 1.29]\n",
    "df=pd.DataFrame({'characters':list1})\n",
    "x_bar=df['characters'].mean()\n",
    "s=df['characters'].std()\n",
    "print(f\"Sample mean is {x_bar}\",f\"Sample standard_deviation is {s}\")\n",
    "\n",
    "#Step 2 Calculate t_critical\n",
    "#for 99% CI, alpha = 1% --> 0.01\n",
    "#df = n-1\n",
    "\n",
    "n=15\n",
    "df=n-1\n",
    "alpha=0.01\n",
    "t_critical = stats.t.ppf(1-alpha/2,df)\n",
    "print(f\"t_critical is {t_critical}\")\n",
    "\n",
    "\n",
    "# Step 3 Calculate standard error (s/sqrt(n))\n",
    "SE = s/np.sqrt(n)\n",
    "print(f\"Standard Error is {SE}\")\n",
    "\n",
    "#Step 4 Calculate Margin of Error\n",
    "MOE = t_critical*SE\n",
    "print(f\"Margin of error is {MOE}\")\n",
    "\n",
    "# Step 4 Calculate Upper bound and lower bound\n",
    "Upper_bound = x_bar + MOE\n",
    "Lower_bound = x_bar - MOE\n",
    "print(f\"The Confidence Interval falls in the range {Lower_bound}, {Upper_bound}\")"
   ]
  },
  {
   "cell_type": "markdown",
   "id": "04214641-c8d4-4eda-8a5d-f207078823c5",
   "metadata": {},
   "source": [
    "* b. Build 99% Confidence Interval Using Known Population Standard Deviation\n",
    "* If it were known that the population standard deviation is 0.2 million characters, construct a 99% confidence interval\n",
    "* for the mean number of characters printed before failure.\n"
   ]
  },
  {
   "cell_type": "markdown",
   "id": "06e5efc0-d68f-4cf9-83d7-da26d2507fca",
   "metadata": {},
   "source": [
    "* Since the population Standard deviation is known, we need to go for z test\n",
    "* Formula to calculate Confidence Interval is (x_bar + Z_critical*S/sqrt(n) , x_bar - Z_critical*S/sqrt(n))\n",
    "* Where x_bar --> Sample mean, n --> number of samples, S --> Population standard deviation"
   ]
  },
  {
   "cell_type": "code",
   "execution_count": 71,
   "id": "aeb3f05c-879f-45a2-bdac-6e37613ceac5",
   "metadata": {},
   "outputs": [
    {
     "name": "stdout",
     "output_type": "stream",
     "text": [
      "The z_critical value is 2.5758293035489004\n",
      "The Standard error is 0.051639777949432225\n",
      "The Margin of error is 0.13301525327090588\n",
      "The Confidence Interval falls in the range 1.1056514133957607, 1.3716819199375725\n"
     ]
    }
   ],
   "source": [
    "# Calculate Z_critical\n",
    "Confidence = 0.99\n",
    "alpha_new = 1-Confidence\n",
    "z_critical = stats.norm.ppf(1-alpha/2)\n",
    "print(f\"The z_critical value is {z_critical}\")\n",
    "\n",
    "#Calculate Standard error\n",
    "S=0.2\n",
    "SE_new = S/np.sqrt(n)\n",
    "print(f\"The Standard error is {SE_new}\")\n",
    "\n",
    "#Calculate Margin of error\n",
    "MOE_new = z_critical*SE_new\n",
    "print(f\"The Margin of error is {MOE_new}\")\n",
    "\n",
    "\n",
    "# Calculate CI\n",
    "lower_bound = x_bar-MOE_new\n",
    "upper_bound = x_bar+MOE_new\n",
    "print(f\"The Confidence Interval falls in the range {lower_bound}, {upper_bound}\")\n"
   ]
  }
 ],
 "metadata": {
  "kernelspec": {
   "display_name": "Python [conda env:base] *",
   "language": "python",
   "name": "conda-base-py"
  },
  "language_info": {
   "codemirror_mode": {
    "name": "ipython",
    "version": 3
   },
   "file_extension": ".py",
   "mimetype": "text/x-python",
   "name": "python",
   "nbconvert_exporter": "python",
   "pygments_lexer": "ipython3",
   "version": "3.12.7"
  }
 },
 "nbformat": 4,
 "nbformat_minor": 5
}
