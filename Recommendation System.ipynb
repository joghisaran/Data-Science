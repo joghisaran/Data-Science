{
 "cells": [
  {
   "cell_type": "markdown",
   "id": "8b914a23-d6e1-4004-9831-fc26b26fc90e",
   "metadata": {},
   "source": [
    "Step 1: Import Libraries"
   ]
  },
  {
   "cell_type": "code",
   "execution_count": 30,
   "id": "672201bc-94fc-4e5e-8e53-85c072fdfb26",
   "metadata": {},
   "outputs": [],
   "source": [
    "import pandas as pd\n",
    "from sklearn.preprocessing import MinMaxScaler\n",
    "from sklearn.metrics.pairwise import cosine_similarity\n"
   ]
  },
  {
   "cell_type": "markdown",
   "id": "6a06d06b-d0f9-4ecf-a545-ed02edfedb12",
   "metadata": {},
   "source": [
    "Step 2: Load and Explore the Dataset"
   ]
  },
  {
   "cell_type": "code",
   "execution_count": 33,
   "id": "67c6464d-222e-4355-bbb8-3675400617be",
   "metadata": {},
   "outputs": [
    {
     "name": "stdout",
     "output_type": "stream",
     "text": [
      "<class 'pandas.core.frame.DataFrame'>\n",
      "RangeIndex: 12294 entries, 0 to 12293\n",
      "Data columns (total 7 columns):\n",
      " #   Column    Non-Null Count  Dtype  \n",
      "---  ------    --------------  -----  \n",
      " 0   anime_id  12294 non-null  int64  \n",
      " 1   name      12294 non-null  object \n",
      " 2   genre     12232 non-null  object \n",
      " 3   type      12269 non-null  object \n",
      " 4   episodes  12294 non-null  object \n",
      " 5   rating    12064 non-null  float64\n",
      " 6   members   12294 non-null  int64  \n",
      "dtypes: float64(1), int64(2), object(4)\n",
      "memory usage: 672.5+ KB\n",
      "None\n",
      "   anime_id                              name  \\\n",
      "0     32281                    Kimi no Na wa.   \n",
      "1      5114  Fullmetal Alchemist: Brotherhood   \n",
      "2     28977                          Gintama°   \n",
      "3      9253                       Steins;Gate   \n",
      "4      9969                     Gintama&#039;   \n",
      "\n",
      "                                               genre   type episodes  rating  \\\n",
      "0               Drama, Romance, School, Supernatural  Movie        1    9.37   \n",
      "1  Action, Adventure, Drama, Fantasy, Magic, Mili...     TV       64    9.26   \n",
      "2  Action, Comedy, Historical, Parody, Samurai, S...     TV       51    9.25   \n",
      "3                                   Sci-Fi, Thriller     TV       24    9.17   \n",
      "4  Action, Comedy, Historical, Parody, Samurai, S...     TV       51    9.16   \n",
      "\n",
      "   members  \n",
      "0   200630  \n",
      "1   793665  \n",
      "2   114262  \n",
      "3   673572  \n",
      "4   151266  \n"
     ]
    }
   ],
   "source": [
    "# Load the anime dataset\n",
    "anime_df = pd.read_csv(\"anime.csv\")  # Replace with your actual file path\n",
    "\n",
    "# Check the basic info\n",
    "print(anime_df.info())\n",
    "\n",
    "# Preview the data\n",
    "print(anime_df.head())\n"
   ]
  },
  {
   "cell_type": "markdown",
   "id": "6ae3a78e-4b71-48e8-afee-509816e65981",
   "metadata": {},
   "source": [
    "Step 3: Data Preprocessing"
   ]
  },
  {
   "cell_type": "code",
   "execution_count": 36,
   "id": "8d8974ad-0acd-4001-89cd-6a2b0be9cb54",
   "metadata": {},
   "outputs": [],
   "source": [
    "# Copy original to preserve\n",
    "anime_df_cleaned = anime_df.copy()"
   ]
  },
  {
   "cell_type": "code",
   "execution_count": 38,
   "id": "b6ac290e-651f-4daa-bc2c-3d0cdb11e726",
   "metadata": {},
   "outputs": [],
   "source": [
    "# Fill missing genres with \"Unknown\"\n",
    "anime_df_cleaned[\"genre\"] = anime_df_cleaned[\"genre\"].fillna(\"Unknown\")"
   ]
  },
  {
   "cell_type": "code",
   "execution_count": 40,
   "id": "c28ace6e-a7fb-4a8b-bf0e-ba4a83414e47",
   "metadata": {},
   "outputs": [],
   "source": [
    "# Drop rows with missing ratings\n",
    "anime_df_cleaned = anime_df_cleaned.dropna(subset=[\"rating\"])"
   ]
  },
  {
   "cell_type": "code",
   "execution_count": 42,
   "id": "96829e22-980e-4051-9cda-a7d1ea64a938",
   "metadata": {},
   "outputs": [],
   "source": [
    "# Convert 'episodes' to numeric (errors=\"coerce\" makes non-numeric to NaN)\n",
    "anime_df_cleaned[\"episodes\"] = pd.to_numeric(anime_df_cleaned[\"episodes\"], errors='coerce')"
   ]
  },
  {
   "cell_type": "code",
   "execution_count": 44,
   "id": "755e1b3b-b117-4c2f-b63a-63bc640363a3",
   "metadata": {},
   "outputs": [],
   "source": [
    "# Fill missing episodes with the median\n",
    "anime_df_cleaned[\"episodes\"] = anime_df_cleaned[\"episodes\"].fillna(anime_df_cleaned[\"episodes\"].median())"
   ]
  },
  {
   "cell_type": "markdown",
   "id": "f0e6a6a5-64b4-4fcd-a365-17cf698c01dd",
   "metadata": {},
   "source": [
    "Step 4: Select Top 2000 Anime by Popularity"
   ]
  },
  {
   "cell_type": "code",
   "execution_count": 47,
   "id": "25f4b377-2b82-48a6-9733-edf300777d37",
   "metadata": {},
   "outputs": [],
   "source": [
    "# Sort by 'members' and pick top 2000\n",
    "top_anime_df = anime_df_cleaned.sort_values(by=\"members\", ascending=False).head(2000).reset_index(drop=True)\n"
   ]
  },
  {
   "cell_type": "markdown",
   "id": "f43a38b5-1f50-4084-83c8-72655ddcdb93",
   "metadata": {},
   "source": [
    "Step 5: Genre Feature Extraction (One-Hot Encoding)"
   ]
  },
  {
   "cell_type": "code",
   "execution_count": 50,
   "id": "2747fa4b-2496-4771-a57f-46fddec10db6",
   "metadata": {},
   "outputs": [],
   "source": [
    "# Convert genre string to a list\n",
    "top_anime_df[\"genre_list\"] = top_anime_df[\"genre\"].apply(lambda x: [g.strip() for g in x.split(\",\")])"
   ]
  },
  {
   "cell_type": "code",
   "execution_count": 52,
   "id": "91ee85a3-25d0-49cb-aa98-f16775735c9a",
   "metadata": {},
   "outputs": [],
   "source": [
    "# One-hot encode the genre list\n",
    "genre_dummies = top_anime_df[\"genre_list\"].explode().str.get_dummies().groupby(level=0).sum()\n"
   ]
  },
  {
   "cell_type": "markdown",
   "id": "c92a50fd-bf52-4c0e-8df5-38c2d0740795",
   "metadata": {},
   "source": [
    "Step 6: Normalize Ratings"
   ]
  },
  {
   "cell_type": "code",
   "execution_count": 55,
   "id": "f6158ba8-5fde-4773-a85d-17d2f051bde7",
   "metadata": {},
   "outputs": [],
   "source": [
    "# Normalize the ratings to 0–1 scale\n",
    "scaler = MinMaxScaler()\n",
    "normalized_ratings = scaler.fit_transform(top_anime_df[[\"rating\"]])\n",
    "normalized_ratings_df = pd.DataFrame(normalized_ratings, columns=[\"rating\"])\n"
   ]
  },
  {
   "cell_type": "markdown",
   "id": "e480d56a-2e92-46f8-b249-70305a361367",
   "metadata": {},
   "source": [
    "Step 7: Combine Features"
   ]
  },
  {
   "cell_type": "code",
   "execution_count": 58,
   "id": "e721c753-c7ba-4a35-a78c-76a92e9df076",
   "metadata": {},
   "outputs": [],
   "source": [
    "# Combine genre one-hot vectors with normalized rating\n",
    "feature_matrix = pd.concat([genre_dummies, normalized_ratings_df], axis=1)\n"
   ]
  },
  {
   "cell_type": "markdown",
   "id": "286c368e-fb34-4de4-9235-4ef14e013899",
   "metadata": {},
   "source": [
    "Step 8: Compute Cosine Similarity"
   ]
  },
  {
   "cell_type": "code",
   "execution_count": 63,
   "id": "20d4b62e-0444-4e40-8d84-8e80d9e45151",
   "metadata": {},
   "outputs": [],
   "source": [
    "# Compute cosine similarity matrix\n",
    "cosine_sim = cosine_similarity(feature_matrix)\n"
   ]
  },
  {
   "cell_type": "markdown",
   "id": "0be62bc5-040c-42d6-a968-90bd7181a9d3",
   "metadata": {},
   "source": [
    "Step 9: Define Recommendation Function"
   ]
  },
  {
   "cell_type": "code",
   "execution_count": 70,
   "id": "3e413779-afe5-4c21-b5c5-1c1840ec34a4",
   "metadata": {},
   "outputs": [],
   "source": [
    "# Anime title list for indexing\n",
    "anime_titles = top_anime_df[\"name\"]\n",
    "\n",
    "def recommend_anime(title, top_n=5, threshold=0.5):\n",
    "    if title not in anime_titles.values:\n",
    "        return f\"Anime titled '{title}' not found in the top 2000 list.\"\n",
    "    \n",
    "    idx = anime_titles[anime_titles == title].index[0]\n",
    "    sim_scores = list(enumerate(cosine_sim[idx]))\n",
    "    \n",
    "    # Filter out self and apply threshold\n",
    "    sim_scores = [(i, score) for i, score in sim_scores if i != idx and score >= threshold]\n",
    "    \n",
    "    # Sort by similarity score\n",
    "    sim_scores = sorted(sim_scores, key=lambda x: x[1], reverse=True)[:top_n]\n",
    "    \n",
    "    # Return anime names\n",
    "    recommendations = anime_titles.iloc[[i for i, _ in sim_scores]]\n",
    "    return recommendations.tolist()\n"
   ]
  },
  {
   "cell_type": "markdown",
   "id": "bc6d104a-ebe9-40b8-bba4-f55adf7b69bf",
   "metadata": {},
   "source": [
    "Step 10: Example Usage"
   ]
  },
  {
   "cell_type": "code",
   "execution_count": 73,
   "id": "51e11be2-bfb4-446e-a7db-21fcf802913f",
   "metadata": {},
   "outputs": [
    {
     "name": "stdout",
     "output_type": "stream",
     "text": [
      "Recommended Anime: ['Steins;Gate Movie: Fuka Ryouiki no Déjà vu', 'Steins;Gate: Oukoubakko no Poriomania', 'Steins;Gate: Kyoukaimenjou no Missing Link - Divide By Zero', 'Under the Dog', 'Final Fantasy: The Spirits Within']\n"
     ]
    }
   ],
   "source": [
    "# Get recommendations for a sample anime\n",
    "results = recommend_anime(\"Steins;Gate\", top_n=5, threshold=0.5)\n",
    "print(\"Recommended Anime:\", results)\n"
   ]
  },
  {
   "cell_type": "markdown",
   "id": "264858a8-7797-4ede-aa85-35e5fba1696b",
   "metadata": {},
   "source": [
    "Conclusion"
   ]
  },
  {
   "cell_type": "markdown",
   "id": "4c3d4e05-2a26-4fbe-a33a-c017f7beb7da",
   "metadata": {},
   "source": [
    "* Preprocessed the data by handling missing values and converting genres into machine-readable format.\n",
    "* Extracted features using one-hot encoding for genres and normalized ratings.\n",
    "\n",
    "* Computed similarity between anime using cosine similarity.\n",
    "\n",
    "* Recommended similar anime based on a given title using genre and rating similarity.\n",
    "\n",
    "* Limited the data to the top 2000 popular anime to improve performance.\n",
    "* This system can recommend relevant anime even without user preferences, making it useful for new users or cold-start situations.\n",
    "\n"
   ]
  },
  {
   "cell_type": "markdown",
   "id": "0e423cb9-3f5f-4a77-b892-adfe0969c43d",
   "metadata": {},
   "source": [
    "\n",
    "Interview Questions:"
   ]
  },
  {
   "cell_type": "markdown",
   "id": "f267b43b-bfa6-440d-8a8e-b645785d6e55",
   "metadata": {},
   "source": [
    "1. Can you explain the difference between user-based and item-based collaborative filtering?\n"
   ]
  },
  {
   "cell_type": "markdown",
   "id": "e1be2be6-9517-4ee7-ba05-64b1346ac988",
   "metadata": {},
   "source": [
    "1. User-Based Collaborative Filtering (UBCF)"
   ]
  },
  {
   "cell_type": "markdown",
   "id": "37afa59c-7f4b-4801-ba34-4094cd06e35e",
   "metadata": {},
   "source": [
    "f two users rate many items similarly, they are likely to have similar preferences."
   ]
  },
  {
   "cell_type": "markdown",
   "id": "ddaed4c3-d435-4032-b010-5fc2b6db1881",
   "metadata": {},
   "source": [
    "Works:\n",
    "\n",
    "* Find users who are similar to the target user (based on rating patterns).\n",
    "\n",
    "* Recommend items that similar users liked, but the target user hasn’t seen yet.\n",
    "\n",
    "* Example:\n",
    "\n",
    "* If User A and User B both liked \"Naruto\" and \"One Piece\", and User B also liked \"Bleach\", then \"Bleach\" might be recommended to User A."
   ]
  },
  {
   "cell_type": "markdown",
   "id": "9726d83f-8c80-47c4-ba03-83ed91e27672",
   "metadata": {},
   "source": [
    "2. Item-Based Collaborative Filtering (IBCF)"
   ]
  },
  {
   "cell_type": "markdown",
   "id": "97d0ed73-0990-4e52-8165-0c600a800aca",
   "metadata": {},
   "source": [
    "If two items are rated similarly by many users, they are likely to be similar."
   ]
  },
  {
   "cell_type": "markdown",
   "id": "764c9982-ecfe-4dfe-bcff-d55646a2a3c7",
   "metadata": {},
   "source": [
    "Works:\n",
    "\n",
    "* Find items similar to what the user has liked/rated highly.\n",
    "\n",
    "* Recommend similar items the user hasn’t interacted with yet.\n",
    "\n",
    "* Example:\n",
    "\n",
    "* If many users who liked \"Attack on Titan\" also liked \"Death Note\", then \"Death Note\" might be recommended to someone who liked \"Attack on Titan\"."
   ]
  },
  {
   "cell_type": "markdown",
   "id": "c96cf55b-acb9-4a74-8128-78277d91eca7",
   "metadata": {},
   "source": [
    "2. What is collaborative filtering, and how does it work?"
   ]
  },
  {
   "cell_type": "markdown",
   "id": "eee52a11-c1d2-49d9-9ac6-31d8b12c2689",
   "metadata": {},
   "source": [
    "Collaborative Filtering (CF) is a popular recommendation technique that suggests items to users based on past interactions (like ratings, views, or purchases) from many users.\n",
    "\n"
   ]
  },
  {
   "cell_type": "markdown",
   "id": "fa299023-86d6-42a0-b5aa-490271d6c894",
   "metadata": {},
   "source": [
    "Types\n",
    "* User-Based CF-Recommend items liked by similar users\n",
    "* Item-Based CF-Recommend items similar to what the user liked\n",
    "* Model-Based CF-Use machine learning (e.g., matrix factorization, deep learning)\n",
    "* Memory-Based CF-Use raw historical data "
   ]
  },
  {
   "cell_type": "markdown",
   "id": "4f3155dc-47b7-408c-ac38-d8d6a33511c5",
   "metadata": {},
   "source": [
    "How Collaborative Filtering Works (Steps):"
   ]
  },
  {
   "cell_type": "markdown",
   "id": "0a2b45f2-3acb-4883-8169-91326b157d28",
   "metadata": {},
   "source": [
    "* Collect data: User-item interaction data (ratings, clicks, views, purchases).\n",
    "\n",
    "* Build user-item matrix: Rows = users, Columns = items, Values = ratings or interactions.\n",
    "\n",
    "* Compute similarity:\n",
    "\n",
    "* Between users (for user-based CF).\n",
    "\n",
    "* Between items (for item-based CF).\n",
    "\n",
    "*Generate recommendations:\n",
    "\n",
    "* For a given user, predict ratings or preference scores for unseen items.\n",
    "\n",
    "* Recommend top-N items with highest predicted scores."
   ]
  },
  {
   "cell_type": "code",
   "execution_count": null,
   "id": "7797df10-8147-4c74-a96f-d6860f5a192e",
   "metadata": {},
   "outputs": [],
   "source": []
  }
 ],
 "metadata": {
  "kernelspec": {
   "display_name": "Python [conda env:base] *",
   "language": "python",
   "name": "conda-base-py"
  },
  "language_info": {
   "codemirror_mode": {
    "name": "ipython",
    "version": 3
   },
   "file_extension": ".py",
   "mimetype": "text/x-python",
   "name": "python",
   "nbconvert_exporter": "python",
   "pygments_lexer": "ipython3",
   "version": "3.12.7"
  }
 },
 "nbformat": 4,
 "nbformat_minor": 5
}
