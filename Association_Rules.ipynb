{
 "cells": [
  {
   "cell_type": "code",
   "execution_count": 1,
   "id": "84cc9b53-9fe7-4707-8169-4a9a0b9a833d",
   "metadata": {},
   "outputs": [
    {
     "name": "stdout",
     "output_type": "stream",
     "text": [
      "Requirement already satisfied: mlxtend in c:\\users\\joghi\\anaconda3\\lib\\site-packages (0.23.4)\n",
      "Requirement already satisfied: scipy>=1.2.1 in c:\\users\\joghi\\anaconda3\\lib\\site-packages (from mlxtend) (1.13.1)\n",
      "Requirement already satisfied: numpy>=1.16.2 in c:\\users\\joghi\\anaconda3\\lib\\site-packages (from mlxtend) (1.26.4)\n",
      "Requirement already satisfied: pandas>=0.24.2 in c:\\users\\joghi\\anaconda3\\lib\\site-packages (from mlxtend) (2.3.1)\n",
      "Requirement already satisfied: scikit-learn>=1.3.1 in c:\\users\\joghi\\anaconda3\\lib\\site-packages (from mlxtend) (1.7.0)\n",
      "Requirement already satisfied: matplotlib>=3.0.0 in c:\\users\\joghi\\anaconda3\\lib\\site-packages (from mlxtend) (3.10.3)\n",
      "Requirement already satisfied: joblib>=0.13.2 in c:\\users\\joghi\\anaconda3\\lib\\site-packages (from mlxtend) (1.4.2)\n",
      "Requirement already satisfied: contourpy>=1.0.1 in c:\\users\\joghi\\anaconda3\\lib\\site-packages (from matplotlib>=3.0.0->mlxtend) (1.2.0)\n",
      "Requirement already satisfied: cycler>=0.10 in c:\\users\\joghi\\anaconda3\\lib\\site-packages (from matplotlib>=3.0.0->mlxtend) (0.11.0)\n",
      "Requirement already satisfied: fonttools>=4.22.0 in c:\\users\\joghi\\anaconda3\\lib\\site-packages (from matplotlib>=3.0.0->mlxtend) (4.51.0)\n",
      "Requirement already satisfied: kiwisolver>=1.3.1 in c:\\users\\joghi\\anaconda3\\lib\\site-packages (from matplotlib>=3.0.0->mlxtend) (1.4.4)\n",
      "Requirement already satisfied: packaging>=20.0 in c:\\users\\joghi\\anaconda3\\lib\\site-packages (from matplotlib>=3.0.0->mlxtend) (24.1)\n",
      "Requirement already satisfied: pillow>=8 in c:\\users\\joghi\\anaconda3\\lib\\site-packages (from matplotlib>=3.0.0->mlxtend) (10.4.0)\n",
      "Requirement already satisfied: pyparsing>=2.3.1 in c:\\users\\joghi\\anaconda3\\lib\\site-packages (from matplotlib>=3.0.0->mlxtend) (3.1.2)\n",
      "Requirement already satisfied: python-dateutil>=2.7 in c:\\users\\joghi\\anaconda3\\lib\\site-packages (from matplotlib>=3.0.0->mlxtend) (2.9.0.post0)\n",
      "Requirement already satisfied: pytz>=2020.1 in c:\\users\\joghi\\anaconda3\\lib\\site-packages (from pandas>=0.24.2->mlxtend) (2025.2)\n",
      "Requirement already satisfied: tzdata>=2022.7 in c:\\users\\joghi\\anaconda3\\lib\\site-packages (from pandas>=0.24.2->mlxtend) (2025.2)\n",
      "Requirement already satisfied: threadpoolctl>=3.1.0 in c:\\users\\joghi\\anaconda3\\lib\\site-packages (from scikit-learn>=1.3.1->mlxtend) (3.5.0)\n",
      "Requirement already satisfied: six>=1.5 in c:\\users\\joghi\\anaconda3\\lib\\site-packages (from python-dateutil>=2.7->matplotlib>=3.0.0->mlxtend) (1.17.0)\n",
      "Note: you may need to restart the kernel to use updated packages.\n"
     ]
    }
   ],
   "source": [
    "pip install mlxtend"
   ]
  },
  {
   "cell_type": "markdown",
   "id": "c7ff220a-57b2-4f00-a20f-24f2b514f85c",
   "metadata": {},
   "source": [
    "Import Libraries"
   ]
  },
  {
   "cell_type": "code",
   "execution_count": 3,
   "id": "d909ee52-d380-4337-ab82-c526f04972f1",
   "metadata": {},
   "outputs": [],
   "source": [
    "import pandas as pd\n",
    "from mlxtend.preprocessing import TransactionEncoder\n",
    "from mlxtend.frequent_patterns import apriori, association_rules\n"
   ]
  },
  {
   "cell_type": "markdown",
   "id": "cb322479-ed44-4ad0-aa4c-f98476a56881",
   "metadata": {},
   "source": [
    "Load the Dataset\n"
   ]
  },
  {
   "cell_type": "code",
   "execution_count": 5,
   "id": "5d7e7bcb-e51d-448d-b74d-7f17b9b7c065",
   "metadata": {},
   "outputs": [
    {
     "data": {
      "text/html": [
       "<div>\n",
       "<style scoped>\n",
       "    .dataframe tbody tr th:only-of-type {\n",
       "        vertical-align: middle;\n",
       "    }\n",
       "\n",
       "    .dataframe tbody tr th {\n",
       "        vertical-align: top;\n",
       "    }\n",
       "\n",
       "    .dataframe thead th {\n",
       "        text-align: right;\n",
       "    }\n",
       "</style>\n",
       "<table border=\"1\" class=\"dataframe\">\n",
       "  <thead>\n",
       "    <tr style=\"text-align: right;\">\n",
       "      <th></th>\n",
       "      <th>shrimp,almonds,avocado,vegetables mix,green grapes,whole weat flour,yams,cottage cheese,energy drink,tomato juice,low fat yogurt,green tea,honey,salad,mineral water,salmon,antioxydant juice,frozen smoothie,spinach,olive oil</th>\n",
       "    </tr>\n",
       "  </thead>\n",
       "  <tbody>\n",
       "    <tr>\n",
       "      <th>0</th>\n",
       "      <td>burgers,meatballs,eggs</td>\n",
       "    </tr>\n",
       "    <tr>\n",
       "      <th>1</th>\n",
       "      <td>chutney</td>\n",
       "    </tr>\n",
       "    <tr>\n",
       "      <th>2</th>\n",
       "      <td>turkey,avocado</td>\n",
       "    </tr>\n",
       "    <tr>\n",
       "      <th>3</th>\n",
       "      <td>mineral water,milk,energy bar,whole wheat rice...</td>\n",
       "    </tr>\n",
       "    <tr>\n",
       "      <th>4</th>\n",
       "      <td>low fat yogurt</td>\n",
       "    </tr>\n",
       "  </tbody>\n",
       "</table>\n",
       "</div>"
      ],
      "text/plain": [
       "  shrimp,almonds,avocado,vegetables mix,green grapes,whole weat flour,yams,cottage cheese,energy drink,tomato juice,low fat yogurt,green tea,honey,salad,mineral water,salmon,antioxydant juice,frozen smoothie,spinach,olive oil\n",
       "0                             burgers,meatballs,eggs                                                                                                                                                                             \n",
       "1                                            chutney                                                                                                                                                                             \n",
       "2                                     turkey,avocado                                                                                                                                                                             \n",
       "3  mineral water,milk,energy bar,whole wheat rice...                                                                                                                                                                             \n",
       "4                                     low fat yogurt                                                                                                                                                                             "
      ]
     },
     "execution_count": 5,
     "metadata": {},
     "output_type": "execute_result"
    }
   ],
   "source": [
    "# Load the Excel file\n",
    "df = pd.read_excel(\"Online retail.xlsx\")\n",
    "\n",
    "# Display first few rows\n",
    "df.head()\n"
   ]
  },
  {
   "cell_type": "markdown",
   "id": "dab26859-f534-476e-a1b3-f0d77cdec0cf",
   "metadata": {},
   "source": [
    "Convert Each Row into a List of Items"
   ]
  },
  {
   "cell_type": "code",
   "execution_count": 7,
   "id": "6c872739-7faf-4259-8f79-b82d551c0d33",
   "metadata": {},
   "outputs": [],
   "source": [
    "# Convert comma-separated strings into list of items\n",
    "transactions = df.iloc[:, 0].apply(lambda x: x.split(',')).tolist()\n"
   ]
  },
  {
   "cell_type": "markdown",
   "id": "2807ccaf-eb24-440b-8b8f-b5a2b94eac0d",
   "metadata": {},
   "source": [
    "One-Hot Encode the Transactions"
   ]
  },
  {
   "cell_type": "code",
   "execution_count": 9,
   "id": "bb419486-11ae-4ac9-83dc-29c4ed8fba25",
   "metadata": {},
   "outputs": [
    {
     "data": {
      "text/html": [
       "<div>\n",
       "<style scoped>\n",
       "    .dataframe tbody tr th:only-of-type {\n",
       "        vertical-align: middle;\n",
       "    }\n",
       "\n",
       "    .dataframe tbody tr th {\n",
       "        vertical-align: top;\n",
       "    }\n",
       "\n",
       "    .dataframe thead th {\n",
       "        text-align: right;\n",
       "    }\n",
       "</style>\n",
       "<table border=\"1\" class=\"dataframe\">\n",
       "  <thead>\n",
       "    <tr style=\"text-align: right;\">\n",
       "      <th></th>\n",
       "      <th>asparagus</th>\n",
       "      <th>almonds</th>\n",
       "      <th>antioxydant juice</th>\n",
       "      <th>asparagus</th>\n",
       "      <th>avocado</th>\n",
       "      <th>babies food</th>\n",
       "      <th>bacon</th>\n",
       "      <th>barbecue sauce</th>\n",
       "      <th>black tea</th>\n",
       "      <th>blueberries</th>\n",
       "      <th>...</th>\n",
       "      <th>turkey</th>\n",
       "      <th>vegetables mix</th>\n",
       "      <th>water spray</th>\n",
       "      <th>white wine</th>\n",
       "      <th>whole weat flour</th>\n",
       "      <th>whole wheat pasta</th>\n",
       "      <th>whole wheat rice</th>\n",
       "      <th>yams</th>\n",
       "      <th>yogurt cake</th>\n",
       "      <th>zucchini</th>\n",
       "    </tr>\n",
       "  </thead>\n",
       "  <tbody>\n",
       "    <tr>\n",
       "      <th>0</th>\n",
       "      <td>False</td>\n",
       "      <td>False</td>\n",
       "      <td>False</td>\n",
       "      <td>False</td>\n",
       "      <td>False</td>\n",
       "      <td>False</td>\n",
       "      <td>False</td>\n",
       "      <td>False</td>\n",
       "      <td>False</td>\n",
       "      <td>False</td>\n",
       "      <td>...</td>\n",
       "      <td>False</td>\n",
       "      <td>False</td>\n",
       "      <td>False</td>\n",
       "      <td>False</td>\n",
       "      <td>False</td>\n",
       "      <td>False</td>\n",
       "      <td>False</td>\n",
       "      <td>False</td>\n",
       "      <td>False</td>\n",
       "      <td>False</td>\n",
       "    </tr>\n",
       "    <tr>\n",
       "      <th>1</th>\n",
       "      <td>False</td>\n",
       "      <td>False</td>\n",
       "      <td>False</td>\n",
       "      <td>False</td>\n",
       "      <td>False</td>\n",
       "      <td>False</td>\n",
       "      <td>False</td>\n",
       "      <td>False</td>\n",
       "      <td>False</td>\n",
       "      <td>False</td>\n",
       "      <td>...</td>\n",
       "      <td>False</td>\n",
       "      <td>False</td>\n",
       "      <td>False</td>\n",
       "      <td>False</td>\n",
       "      <td>False</td>\n",
       "      <td>False</td>\n",
       "      <td>False</td>\n",
       "      <td>False</td>\n",
       "      <td>False</td>\n",
       "      <td>False</td>\n",
       "    </tr>\n",
       "    <tr>\n",
       "      <th>2</th>\n",
       "      <td>False</td>\n",
       "      <td>False</td>\n",
       "      <td>False</td>\n",
       "      <td>False</td>\n",
       "      <td>True</td>\n",
       "      <td>False</td>\n",
       "      <td>False</td>\n",
       "      <td>False</td>\n",
       "      <td>False</td>\n",
       "      <td>False</td>\n",
       "      <td>...</td>\n",
       "      <td>True</td>\n",
       "      <td>False</td>\n",
       "      <td>False</td>\n",
       "      <td>False</td>\n",
       "      <td>False</td>\n",
       "      <td>False</td>\n",
       "      <td>False</td>\n",
       "      <td>False</td>\n",
       "      <td>False</td>\n",
       "      <td>False</td>\n",
       "    </tr>\n",
       "    <tr>\n",
       "      <th>3</th>\n",
       "      <td>False</td>\n",
       "      <td>False</td>\n",
       "      <td>False</td>\n",
       "      <td>False</td>\n",
       "      <td>False</td>\n",
       "      <td>False</td>\n",
       "      <td>False</td>\n",
       "      <td>False</td>\n",
       "      <td>False</td>\n",
       "      <td>False</td>\n",
       "      <td>...</td>\n",
       "      <td>False</td>\n",
       "      <td>False</td>\n",
       "      <td>False</td>\n",
       "      <td>False</td>\n",
       "      <td>False</td>\n",
       "      <td>False</td>\n",
       "      <td>True</td>\n",
       "      <td>False</td>\n",
       "      <td>False</td>\n",
       "      <td>False</td>\n",
       "    </tr>\n",
       "    <tr>\n",
       "      <th>4</th>\n",
       "      <td>False</td>\n",
       "      <td>False</td>\n",
       "      <td>False</td>\n",
       "      <td>False</td>\n",
       "      <td>False</td>\n",
       "      <td>False</td>\n",
       "      <td>False</td>\n",
       "      <td>False</td>\n",
       "      <td>False</td>\n",
       "      <td>False</td>\n",
       "      <td>...</td>\n",
       "      <td>False</td>\n",
       "      <td>False</td>\n",
       "      <td>False</td>\n",
       "      <td>False</td>\n",
       "      <td>False</td>\n",
       "      <td>False</td>\n",
       "      <td>False</td>\n",
       "      <td>False</td>\n",
       "      <td>False</td>\n",
       "      <td>False</td>\n",
       "    </tr>\n",
       "  </tbody>\n",
       "</table>\n",
       "<p>5 rows × 120 columns</p>\n",
       "</div>"
      ],
      "text/plain": [
       "    asparagus  almonds  antioxydant juice  asparagus  avocado  babies food  \\\n",
       "0       False    False              False      False    False        False   \n",
       "1       False    False              False      False    False        False   \n",
       "2       False    False              False      False     True        False   \n",
       "3       False    False              False      False    False        False   \n",
       "4       False    False              False      False    False        False   \n",
       "\n",
       "   bacon  barbecue sauce  black tea  blueberries  ...  turkey  vegetables mix  \\\n",
       "0  False           False      False        False  ...   False           False   \n",
       "1  False           False      False        False  ...   False           False   \n",
       "2  False           False      False        False  ...    True           False   \n",
       "3  False           False      False        False  ...   False           False   \n",
       "4  False           False      False        False  ...   False           False   \n",
       "\n",
       "   water spray  white wine  whole weat flour  whole wheat pasta  \\\n",
       "0        False       False             False              False   \n",
       "1        False       False             False              False   \n",
       "2        False       False             False              False   \n",
       "3        False       False             False              False   \n",
       "4        False       False             False              False   \n",
       "\n",
       "   whole wheat rice   yams  yogurt cake  zucchini  \n",
       "0             False  False        False     False  \n",
       "1             False  False        False     False  \n",
       "2             False  False        False     False  \n",
       "3              True  False        False     False  \n",
       "4             False  False        False     False  \n",
       "\n",
       "[5 rows x 120 columns]"
      ]
     },
     "execution_count": 9,
     "metadata": {},
     "output_type": "execute_result"
    }
   ],
   "source": [
    "te = TransactionEncoder()\n",
    "te_ary = te.fit_transform(transactions)\n",
    "df_encoded = pd.DataFrame(te_ary, columns=te.columns_)\n",
    "\n",
    "df_encoded.head()\n"
   ]
  },
  {
   "cell_type": "markdown",
   "id": "a19cfdcb-5836-41a3-861b-47f20a2ef628",
   "metadata": {},
   "source": [
    "Apply Apriori Algorithm"
   ]
  },
  {
   "cell_type": "code",
   "execution_count": 11,
   "id": "4203b2f0-b4c0-404a-ba8b-6abcc2223b04",
   "metadata": {},
   "outputs": [
    {
     "data": {
      "text/html": [
       "<div>\n",
       "<style scoped>\n",
       "    .dataframe tbody tr th:only-of-type {\n",
       "        vertical-align: middle;\n",
       "    }\n",
       "\n",
       "    .dataframe tbody tr th {\n",
       "        vertical-align: top;\n",
       "    }\n",
       "\n",
       "    .dataframe thead th {\n",
       "        text-align: right;\n",
       "    }\n",
       "</style>\n",
       "<table border=\"1\" class=\"dataframe\">\n",
       "  <thead>\n",
       "    <tr style=\"text-align: right;\">\n",
       "      <th></th>\n",
       "      <th>support</th>\n",
       "      <th>itemsets</th>\n",
       "    </tr>\n",
       "  </thead>\n",
       "  <tbody>\n",
       "    <tr>\n",
       "      <th>46</th>\n",
       "      <td>0.238267</td>\n",
       "      <td>(mineral water)</td>\n",
       "    </tr>\n",
       "    <tr>\n",
       "      <th>19</th>\n",
       "      <td>0.179733</td>\n",
       "      <td>(eggs)</td>\n",
       "    </tr>\n",
       "    <tr>\n",
       "      <th>63</th>\n",
       "      <td>0.174133</td>\n",
       "      <td>(spaghetti)</td>\n",
       "    </tr>\n",
       "    <tr>\n",
       "      <th>24</th>\n",
       "      <td>0.170933</td>\n",
       "      <td>(french fries)</td>\n",
       "    </tr>\n",
       "    <tr>\n",
       "      <th>13</th>\n",
       "      <td>0.163867</td>\n",
       "      <td>(chocolate)</td>\n",
       "    </tr>\n",
       "  </tbody>\n",
       "</table>\n",
       "</div>"
      ],
      "text/plain": [
       "     support         itemsets\n",
       "46  0.238267  (mineral water)\n",
       "19  0.179733           (eggs)\n",
       "63  0.174133      (spaghetti)\n",
       "24  0.170933   (french fries)\n",
       "13  0.163867      (chocolate)"
      ]
     },
     "execution_count": 11,
     "metadata": {},
     "output_type": "execute_result"
    }
   ],
   "source": [
    "# Find frequent itemsets with minimum support threshold\n",
    "frequent_itemsets = apriori(df_encoded, min_support=0.01, use_colnames=True)\n",
    "\n",
    "# Sort itemsets by support\n",
    "frequent_itemsets.sort_values(by='support', ascending=False).head()\n"
   ]
  },
  {
   "cell_type": "markdown",
   "id": "75585f22-29ca-4794-a7f1-a2a0060c428b",
   "metadata": {},
   "source": [
    "Generate Association Rules"
   ]
  },
  {
   "cell_type": "code",
   "execution_count": 13,
   "id": "32881b56-e5db-453e-b8ab-69abe91a2e72",
   "metadata": {},
   "outputs": [
    {
     "data": {
      "text/html": [
       "<div>\n",
       "<style scoped>\n",
       "    .dataframe tbody tr th:only-of-type {\n",
       "        vertical-align: middle;\n",
       "    }\n",
       "\n",
       "    .dataframe tbody tr th {\n",
       "        vertical-align: top;\n",
       "    }\n",
       "\n",
       "    .dataframe thead th {\n",
       "        text-align: right;\n",
       "    }\n",
       "</style>\n",
       "<table border=\"1\" class=\"dataframe\">\n",
       "  <thead>\n",
       "    <tr style=\"text-align: right;\">\n",
       "      <th></th>\n",
       "      <th>antecedents</th>\n",
       "      <th>consequents</th>\n",
       "      <th>antecedent support</th>\n",
       "      <th>consequent support</th>\n",
       "      <th>support</th>\n",
       "      <th>confidence</th>\n",
       "      <th>lift</th>\n",
       "      <th>representativity</th>\n",
       "      <th>leverage</th>\n",
       "      <th>conviction</th>\n",
       "      <th>zhangs_metric</th>\n",
       "      <th>jaccard</th>\n",
       "      <th>certainty</th>\n",
       "      <th>kulczynski</th>\n",
       "    </tr>\n",
       "  </thead>\n",
       "  <tbody>\n",
       "    <tr>\n",
       "      <th>1</th>\n",
       "      <td>(herb &amp; pepper)</td>\n",
       "      <td>(ground beef)</td>\n",
       "      <td>0.049467</td>\n",
       "      <td>0.098267</td>\n",
       "      <td>0.016</td>\n",
       "      <td>0.32345</td>\n",
       "      <td>3.291555</td>\n",
       "      <td>1.0</td>\n",
       "      <td>0.011139</td>\n",
       "      <td>1.332841</td>\n",
       "      <td>0.732423</td>\n",
       "      <td>0.121457</td>\n",
       "      <td>0.249723</td>\n",
       "      <td>0.243136</td>\n",
       "    </tr>\n",
       "  </tbody>\n",
       "</table>\n",
       "</div>"
      ],
      "text/plain": [
       "       antecedents    consequents  antecedent support  consequent support  \\\n",
       "1  (herb & pepper)  (ground beef)            0.049467            0.098267   \n",
       "\n",
       "   support  confidence      lift  representativity  leverage  conviction  \\\n",
       "1    0.016     0.32345  3.291555               1.0  0.011139    1.332841   \n",
       "\n",
       "   zhangs_metric   jaccard  certainty  kulczynski  \n",
       "1       0.732423  0.121457   0.249723    0.243136  "
      ]
     },
     "execution_count": 13,
     "metadata": {},
     "output_type": "execute_result"
    }
   ],
   "source": [
    "# Generate association rules with lift threshold\n",
    "rules = association_rules(frequent_itemsets, metric=\"lift\", min_threshold=3)\n",
    "\n",
    "# Filter rules with confidence ≥ 0.2\n",
    "rules = rules[rules['confidence'] >= 0.2]\n",
    "\n",
    "# Display top rules\n",
    "rules.sort_values(by='confidence', ascending=False).head(10)\n"
   ]
  },
  {
   "cell_type": "markdown",
   "id": "0271871f-32d1-4e97-b230-bb64bc88f762",
   "metadata": {},
   "source": [
    "Interpret the Rules "
   ]
  },
  {
   "cell_type": "code",
   "execution_count": 15,
   "id": "d1fe98ca-f989-4227-800b-f435572f1004",
   "metadata": {},
   "outputs": [
    {
     "name": "stdout",
     "output_type": "stream",
     "text": [
      "Rule: {'herb & pepper'} → {'ground beef'}\n",
      "Support: 0.016, Confidence: 0.323, Lift: 3.292\n",
      "--------------------------------------------------\n"
     ]
    }
   ],
   "source": [
    "for index, row in rules.sort_values(by='lift', ascending=False).head(10).iterrows():\n",
    "    print(f\"Rule: {set(row['antecedents'])} → {set(row['consequents'])}\")\n",
    "    print(f\"Support: {row['support']:.3f}, Confidence: {row['confidence']:.3f}, Lift: {row['lift']:.3f}\")\n",
    "    print(\"-\" * 50)\n"
   ]
  },
  {
   "cell_type": "markdown",
   "id": "e14fafee-2f83-4c0b-b8a6-cc8eb9bd1918",
   "metadata": {},
   "source": [
    "Conclusion"
   ]
  },
  {
   "cell_type": "markdown",
   "id": "4e5682bc-6dd8-46be-9115-14d83770381b",
   "metadata": {},
   "source": [
    "Frequent Itemsets Identified\n",
    "* Using a minimum support threshold of 1%, we successfully extracted frequent itemsets.\n",
    "\n",
    "* These itemsets represent groups of products that often occur together in transactions.\n",
    "\n",
    "* Common items like mineral water, eggs, spaghetti, and frozen vegetables appeared frequently, indicating their popularity."
   ]
  },
  {
   "cell_type": "markdown",
   "id": "67810af4-8878-4825-b449-ae0a434d78a8",
   "metadata": {},
   "source": [
    "Strong Association Rules Discovered\n",
    "* By setting thresholds of:\n",
    "\n",
    "* Confidence ≥ 20%\n",
    "\n",
    "* Lift ≥ 3\n",
    "\n",
    "* We filtered and discovered strong, meaningful rules that show significant relationships between products."
   ]
  },
  {
   "cell_type": "markdown",
   "id": "b1b35ae7-0425-43de-a32b-d0893b43959f",
   "metadata": {},
   "source": [
    "Customer Purchase Behavior Insights\n",
    "* Healthy lifestyle choices are often bundled (e.g., avocado, green tea, salmon, mineral water).\n",
    "\n",
    "* Convenience items like frozen smoothie, eggs, spaghetti, and milk are frequently bought together.\n",
    "\n",
    "* These insights can help retailers in:\n",
    "\n",
    "* Product placement\n",
    "\n",
    "* Cross-selling strategies\n",
    "\n",
    "* Personalized marketing campaigns"
   ]
  },
  {
   "cell_type": "markdown",
   "id": "37ab0ac3-8465-4755-a1a4-faa8b8cf9556",
   "metadata": {},
   "source": [
    "Business Applications\n",
    "* Inventory Planning: Stock items that are frequently bought together near each other.\n",
    "\n",
    "* Recommendation Systems: Suggest products based on association rules.\n",
    "\n",
    "* Promotion Bundling: Offer bundle discounts for frequently associated items."
   ]
  },
  {
   "cell_type": "markdown",
   "id": "b8a30845-1bbc-4241-a950-e4e56189892e",
   "metadata": {},
   "source": [
    "Interview Questions"
   ]
  },
  {
   "cell_type": "markdown",
   "id": "6137d50e-af6d-497e-ba50-104d5f9b3d6f",
   "metadata": {},
   "source": [
    "1.What is lift and why is it important in Association rules?\n",
    "\n",
    "* Lift is a key metric in association rule mining that measures how much more likely two items are to be purchased together compared to their individual likelihoods."
   ]
  },
  {
   "cell_type": "markdown",
   "id": "ba2f1d66-c245-48ae-a3f7-793110a3be28",
   "metadata": {},
   "source": [
    "Lift formula\n",
    "\n",
    "* Lift=Support(A->B)/Support(A)*Support(B)\n",
    "\n",
    "*  Support(A → B): The probability that both items A and B are bought together.\n",
    "\n",
    "*  Support(A) and Support(B): The individual probabilities of A and B being bought.\n",
    "\n"
   ]
  },
  {
   "cell_type": "markdown",
   "id": "90804973-3665-49cc-9714-f1da4525545a",
   "metadata": {},
   "source": [
    "Importance of lift"
   ]
  },
  {
   "cell_type": "markdown",
   "id": "c287fe15-80f1-4fac-a0a8-1fab7a9a0279",
   "metadata": {},
   "source": [
    "* Detects Non-Random Associations\n",
    "* Highlights Valuable Rules\n",
    "* Goes Beyond Confidence"
   ]
  },
  {
   "cell_type": "markdown",
   "id": "67885414-9f1d-453d-9a98-2b6166e829d0",
   "metadata": {},
   "source": [
    "2.\tWhat is support and Confidence. How do you calculate them?"
   ]
  },
  {
   "cell_type": "markdown",
   "id": "7fcafa30-15d1-4ba4-9f7d-b42e102b7115",
   "metadata": {},
   "source": [
    "Support and Confidence are the two fundamental metrics used in association rules to evaluate how often items are bought together and how strong their relationship is."
   ]
  },
  {
   "cell_type": "markdown",
   "id": "fa40629b-1bf7-46a5-b9e6-0f2662f9c328",
   "metadata": {},
   "source": [
    "Support Formula:\n",
    "\n",
    "* Support(A)=Number of transcations containing A/Total transcations"
   ]
  },
  {
   "cell_type": "markdown",
   "id": "926fc8bb-8bb6-416d-988d-3491eed0baed",
   "metadata": {},
   "source": [
    "* Support(A->B)=Transcations containing both A and B/Total transcations"
   ]
  },
  {
   "cell_type": "markdown",
   "id": "c9a2d645-1a7d-4014-ae0c-2c84866bfd03",
   "metadata": {},
   "source": [
    "Confidence Formula\n",
    "* Confidence(A->B)=Support(AUB)/Support(A)"
   ]
  },
  {
   "cell_type": "markdown",
   "id": "44703793-ee64-4797-91ff-0ac48e102431",
   "metadata": {},
   "source": [
    "Importance\n",
    "\n",
    "* Support\n",
    "* Helps identify popular items or combinations.\n",
    "* Low support rules may not be reliable, even if confidence is high.\n",
    "\n",
    "* Confidence\n",
    "* Tells you the predictive strength of the rule.\n",
    "* A higher confidence means B is very likely if A is already in the cart.\n",
    "\n"
   ]
  },
  {
   "cell_type": "markdown",
   "id": "8e0ca362-f5c1-4ad6-aa79-883fef9257ca",
   "metadata": {},
   "source": [
    "3.\tWhat are some limitations or challenges of Association rules mining?\n",
    "\n",
    "\n"
   ]
  },
  {
   "cell_type": "markdown",
   "id": "f9d8413e-f334-41cc-8073-3052b6ba4ef5",
   "metadata": {},
   "source": [
    "Limitations and Challenges of Association Rule Mining"
   ]
  },
  {
   "cell_type": "markdown",
   "id": "4618675c-5234-4780-8c6d-a8bb97be2b6a",
   "metadata": {},
   "source": [
    "Too Many Rules (Combinatorial Explosion)\n",
    "* Problem: The algorithm may generate thousands of rules, especially with low support/confidence thresholds.\n",
    "\n",
    "* Impact: Most of these rules are not meaningful or actionable.\n",
    "\n",
    "* Solution: Use higher thresholds or additional metrics like lift, leverage, or conviction to filter."
   ]
  },
  {
   "cell_type": "markdown",
   "id": "b2c8f94f-f32e-4ab2-bcdd-a6da3aab207e",
   "metadata": {},
   "source": [
    "Not All Rules Are Useful\n",
    "* Problem: Some rules are statistically strong but not practically useful.\n",
    "\n",
    "* Example: If \"milk → bread\" has 95% confidence, but everyone buys milk and bread anyway, it's not insightful.\n",
    "\n",
    "* Solution: Always consider business relevance and use metrics like lift to evaluate true association."
   ]
  },
  {
   "cell_type": "markdown",
   "id": "d31306a0-f40c-43bd-a74e-4ce5f866d204",
   "metadata": {},
   "source": [
    "Rare Itemsets Are Ignored\n",
    "* Problem: Rare but important combinations (e.g., luxury items) may be missed due to low support.\n",
    "\n",
    "* Impact: Can miss out on niche market insights.\n",
    "\n",
    "* Solution: Consider lowering support carefully or using alternative algorithms like FP-Growth or rare item mining techniques."
   ]
  },
  {
   "cell_type": "markdown",
   "id": "5ec89b76-532d-4c3a-a039-f25eef052ccf",
   "metadata": {},
   "source": [
    " No Temporal or Sequential Information\n",
    "* Problem: Apriori doesn’t consider order or time — only co-occurrence.\n",
    "\n",
    "* Example: It can't distinguish between \"buying phone → buying case\" vs. the reverse.\n",
    "\n",
    "* Solution: Use sequential pattern mining (like PrefixSpan) for such cases."
   ]
  },
  {
   "cell_type": "markdown",
   "id": "6857e1bf-fafa-4f79-9f1e-7142927f82ff",
   "metadata": {},
   "source": [
    "Computational Cost\n",
    "* Problem: Apriori scans the dataset multiple times and is computationally expensive, especially on large datasets.\n",
    "\n",
    "* Solution: Use more efficient algorithms like FP-Growth or ECLAT."
   ]
  },
  {
   "cell_type": "code",
   "execution_count": null,
   "id": "11d30e97-6e07-4238-8e19-5a50a11eccbf",
   "metadata": {},
   "outputs": [],
   "source": []
  }
 ],
 "metadata": {
  "kernelspec": {
   "display_name": "Python [conda env:base] *",
   "language": "python",
   "name": "conda-base-py"
  },
  "language_info": {
   "codemirror_mode": {
    "name": "ipython",
    "version": 3
   },
   "file_extension": ".py",
   "mimetype": "text/x-python",
   "name": "python",
   "nbconvert_exporter": "python",
   "pygments_lexer": "ipython3",
   "version": "3.12.7"
  }
 },
 "nbformat": 4,
 "nbformat_minor": 5
}
