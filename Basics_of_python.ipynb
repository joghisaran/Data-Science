{
 "cells": [
  {
   "cell_type": "markdown",
   "id": "b992e83f-36f0-4858-ad47-5e55fee37257",
   "metadata": {},
   "source": [
    "Exercise 1: Prime Numbers\n",
    "Write a Python program that checks whether a given number is prime or not. \n",
    "A prime number is a natural number greater than 1 that has no positive divisors other than 1 and itself."
   ]
  },
  {
   "cell_type": "code",
   "execution_count": 2,
   "id": "89bf8963-8888-44d8-8919-123c63e41ca6",
   "metadata": {},
   "outputs": [
    {
     "name": "stdin",
     "output_type": "stream",
     "text": [
      "Enter the number 7\n"
     ]
    },
    {
     "name": "stdout",
     "output_type": "stream",
     "text": [
      "7 is a prime number\n"
     ]
    }
   ],
   "source": [
    "def CheckPrime(number):\n",
    "     #If the number is divisible by other number than itself then, it is not a prime number\n",
    "    for i in range (2, int(number**0.5)+1):\n",
    "       if number%i == 0:\n",
    "           return f\"{number} is not a prime number\"\n",
    "    return f\"{number} is a prime number\"\n",
    "\n",
    "#To check if the given number is a valid integer\n",
    "\n",
    "try:\n",
    "  Number = int(input(\"Enter the number\"))\n",
    "    \n",
    "  #Negative number is not a prime number\n",
    "  if Number < 1:\n",
    "        print(f\"{Number} is not a prime number\")\n",
    "  # 2 is the smallest even prime number  \n",
    "  elif Number == 2:\n",
    "        print(f\"{Number} is a prime number\")\n",
    "  #Calling the function\n",
    "  else:\n",
    "      print(CheckPrime(Number))\n",
    "    \n",
    "except ValueError:\n",
    "    print(\"Enter the valid Number\")\n",
    "    "
   ]
  },
  {
   "cell_type": "markdown",
   "id": "fbb2a43c-3cef-49b4-9b6e-ec8fc147b429",
   "metadata": {},
   "source": [
    "Exercise 2: Product of Random Numbers\n",
    "Develop a Python program that generates two random numbers and asks the user to enter the product of these numbers. \n",
    "The program should then check if the user's answer is correct and display an appropriate message.\n"
   ]
  },
  {
   "cell_type": "code",
   "execution_count": 4,
   "id": "4440db9a-fc60-4172-aab9-2069f44fa09a",
   "metadata": {},
   "outputs": [
    {
     "name": "stdout",
     "output_type": "stream",
     "text": [
      "The first number is 317\n",
      "The second number is 508\n"
     ]
    },
    {
     "name": "stdin",
     "output_type": "stream",
     "text": [
      "Enter the product of these numbers 657\n"
     ]
    },
    {
     "name": "stdout",
     "output_type": "stream",
     "text": [
      "The answer is wrong, The correct answer is 161036\n"
     ]
    }
   ],
   "source": [
    "import numpy as np\n",
    "number_1 = np.random.randint(1,1000)\n",
    "number_2 = np.random.randint(1,1000)\n",
    "print(f\"The first number is {number_1}\")\n",
    "print(f\"The second number is {number_2}\")\n",
    "product = int(input(\"Enter the product of these numbers\"))\n",
    "if product == (number_1*number_2):\n",
    "    print (\"The answer is correct\")\n",
    "else:\n",
    "    print (f\"The answer is wrong, The correct answer is {number_1*number_2}\")"
   ]
  },
  {
   "cell_type": "markdown",
   "id": "71065ffa-b413-4e79-b069-66d4fbf12e0b",
   "metadata": {},
   "source": [
    "Exercise 3: Squares of Even/Odd Numbers\n",
    "Create a Python script that prints the squares of all even or odd numbers within the range of 100 to 200. \n",
    "Choose either even or odd numbers and document your choice in the code.\n"
   ]
  },
  {
   "cell_type": "code",
   "execution_count": 6,
   "id": "d2bcb742-0c5d-4680-9ea2-2ed5f669f4df",
   "metadata": {},
   "outputs": [
    {
     "name": "stdout",
     "output_type": "stream",
     "text": [
      "The square of 100 is 10000\n",
      "The square of 102 is 10404\n",
      "The square of 104 is 10816\n",
      "The square of 106 is 11236\n",
      "The square of 108 is 11664\n",
      "The square of 110 is 12100\n",
      "The square of 112 is 12544\n",
      "The square of 114 is 12996\n",
      "The square of 116 is 13456\n",
      "The square of 118 is 13924\n",
      "The square of 120 is 14400\n",
      "The square of 122 is 14884\n",
      "The square of 124 is 15376\n",
      "The square of 126 is 15876\n",
      "The square of 128 is 16384\n",
      "The square of 130 is 16900\n",
      "The square of 132 is 17424\n",
      "The square of 134 is 17956\n",
      "The square of 136 is 18496\n",
      "The square of 138 is 19044\n",
      "The square of 140 is 19600\n",
      "The square of 142 is 20164\n",
      "The square of 144 is 20736\n",
      "The square of 146 is 21316\n",
      "The square of 148 is 21904\n",
      "The square of 150 is 22500\n",
      "The square of 152 is 23104\n",
      "The square of 154 is 23716\n",
      "The square of 156 is 24336\n",
      "The square of 158 is 24964\n",
      "The square of 160 is 25600\n",
      "The square of 162 is 26244\n",
      "The square of 164 is 26896\n",
      "The square of 166 is 27556\n",
      "The square of 168 is 28224\n",
      "The square of 170 is 28900\n",
      "The square of 172 is 29584\n",
      "The square of 174 is 30276\n",
      "The square of 176 is 30976\n",
      "The square of 178 is 31684\n",
      "The square of 180 is 32400\n",
      "The square of 182 is 33124\n",
      "The square of 184 is 33856\n",
      "The square of 186 is 34596\n",
      "The square of 188 is 35344\n",
      "The square of 190 is 36100\n",
      "The square of 192 is 36864\n",
      "The square of 194 is 37636\n",
      "The square of 196 is 38416\n",
      "The square of 198 is 39204\n",
      "The square of 200 is 40000\n"
     ]
    }
   ],
   "source": [
    "for i in range(100,201):\n",
    "    if i%2==0:\n",
    "        print(f\"The square of {i} is {i**2}\")"
   ]
  },
  {
   "cell_type": "markdown",
   "id": "e3d5d774-d578-4852-9e8e-e04268874155",
   "metadata": {},
   "source": [
    "Exercise 4: Word counter\n",
    "write a program to count the number of words in a given text."
   ]
  },
  {
   "cell_type": "code",
   "execution_count": 8,
   "id": "69d49e1d-c32b-4dd9-adf9-a78a0f9a2752",
   "metadata": {},
   "outputs": [
    {
     "name": "stdout",
     "output_type": "stream",
     "text": [
      "'This' : 2\n",
      "'is' : 1\n",
      "'a' : 1\n",
      "'sample' : 1\n",
      "'text' : 2\n",
      "'will' : 1\n",
      "'be' : 1\n",
      "'used' : 1\n",
      "'to' : 1\n",
      "'demonstrate' : 1\n",
      "'the' : 1\n",
      "'word' : 1\n",
      "'counter' : 1\n"
     ]
    }
   ],
   "source": [
    "import string\n",
    "input_text = \"This is a sample text. This text will be used to demonstrate the word counter.\"\n",
    "#Removing punctuations\n",
    "mod_text =''.join(char for char in input_text if char not in string.punctuation)\n",
    "#Spliting up the words. So that it is stored in a list.\n",
    "list1= mod_text.split()\n",
    "list2=[]\n",
    "count=1\n",
    "#Traversing the main\n",
    "for word in range (len(list1)):\n",
    "    #list2 will have words that are already checked.\n",
    "    if list1[word] not in list2:\n",
    "        #Traversing from the next index number to find out the count\n",
    "        for j in range (word+1,len(list1)):\n",
    "            if list1[word]==list1[j]:\n",
    "                count+=1\n",
    "        #If the word is checked, appending it in a list to avoid checking the same word in future iteration\n",
    "        list2.append(list1[word])\n",
    "        print(f\"'{list1[word]}' : {count}\")\n",
    "        count=1\n",
    "    \n"
   ]
  },
  {
   "cell_type": "markdown",
   "id": "b1b20a28-235f-42ed-8ad3-1efce0d1e885",
   "metadata": {},
   "source": [
    "Exercise 5: Check for Palindrome\n",
    "Write a Python function called is_palindrome that takes a string as input and returns True if the string is a palindrome, and False otherwise. \n",
    "A palindrome is a word, phrase, number, or other sequence of characters that reads the same forward and backward, ignoring spaces, punctuation, and capitalization."
   ]
  },
  {
   "cell_type": "code",
   "execution_count": 10,
   "id": "0ed99062-1ba1-4dc5-b085-a3b5501d95f3",
   "metadata": {},
   "outputs": [
    {
     "name": "stdin",
     "output_type": "stream",
     "text": [
      "Enter the input racecar\n"
     ]
    },
    {
     "name": "stdout",
     "output_type": "stream",
     "text": [
      "The given word is a palindrome\n"
     ]
    }
   ],
   "source": [
    "user_input=input(\"Enter the input\")\n",
    "#Reverses the input\n",
    "reversed_input = user_input[::-1]\n",
    "#Checks if the given word is the same when it is reversed\n",
    "if user_input == reversed_input:\n",
    "    print(\"The given word is a palindrome\")\n",
    "else:\n",
    "    print(\"The given word is not a palindrome\")\n"
   ]
  },
  {
   "cell_type": "code",
   "execution_count": null,
   "id": "266b1169-f9c0-4f22-90f3-7ef4b1b4bcb9",
   "metadata": {},
   "outputs": [],
   "source": []
  }
 ],
 "metadata": {
  "kernelspec": {
   "display_name": "Python [conda env:base] *",
   "language": "python",
   "name": "conda-base-py"
  },
  "language_info": {
   "codemirror_mode": {
    "name": "ipython",
    "version": 3
   },
   "file_extension": ".py",
   "mimetype": "text/x-python",
   "name": "python",
   "nbconvert_exporter": "python",
   "pygments_lexer": "ipython3",
   "version": "3.12.7"
  }
 },
 "nbformat": 4,
 "nbformat_minor": 5
}
